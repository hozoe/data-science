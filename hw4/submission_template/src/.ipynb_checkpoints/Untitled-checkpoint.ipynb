{
 "cells": [
  {
   "cell_type": "code",
   "execution_count": 3,
   "id": "92900405",
   "metadata": {},
   "outputs": [],
   "source": [
    "import os.path as osp\n",
    "import pandas as pd\n",
    "import os\n",
    "import calendar\n",
    "\n",
    "def format_data(file):\n",
    "    # format created date and closed data\n",
    "    # parse_dates=['created_date','closed_date'])\n",
    "    columns = ['created_date','closed_date','incident_zip']\n",
    "    df = pd.read_csv(file,low_memory=False, usecols=[1,2,8], names=columns)\n",
    "    df.dropna(inplace=True)\n",
    "    df['month'] = df['closed_date'].str.slice(0,2)\n",
    "    map_month = {'01':'Jan','02':'Feb','03':'Mar','04':'Apr','05':'May','06':'June','07':'July','08':'Aug','09':'Sep'}\n",
    "    df['month'] = df['month'].map(map_month)\n",
    "    # df['month'] = pd.to_numeric(df['month'], errors='coerce')\n",
    "    # df['month'] = df['month'].apply(lambda x: calendar.month_abbr[x])\n",
    "    df['created_date'] = pd.to_datetime(df['created_date'], format='%m/%d/%Y %I:%M:%S %p')\n",
    "    df['closed_date'] = pd.to_datetime(df['closed_date'], format='%m/%d/%Y %I:%M:%S %p')\n",
    "    df['response_time'] = (df['closed_date'] - df['created_date']) / pd.Timedelta(hours=1)\n",
    "    df = df[df['response_time']>=0]\n",
    "\n",
    "    return df\n",
    "\n",
    "def year_avg(data):\n",
    "    df = data.copy()\n",
    "    df['month'] = df['month'].astype(int)\n",
    "    df['incident_zip'] = df['incident_zip'].astype(int)\n",
    "    year_df = df.drop(['incident_zip'],axis=1)\n",
    "    year_df = year_df.groupby(['month']).mean().reset_index()\n",
    "    return year_df\n",
    "\n",
    "def zip_avg(data):\n",
    "    df = data.copy()\n",
    "    df['month'] = df['month'].astype(int)\n",
    "    df['incident_zip'] = df['incident_zip'].astype(int)\n",
    "    zip_df = df.groupby(['month','incident_zip']).mean().reset_index()\n",
    "    return zip_df"
   ]
  },
  {
   "cell_type": "code",
   "execution_count": 4,
   "id": "c4396da2",
   "metadata": {},
   "outputs": [],
   "source": [
    "file_path = \"/Users/zoe/Desktop/FALL2021/COMP598/comp598-2021/hw4/submission_template/data/nyc_2020.csv\""
   ]
  },
  {
   "cell_type": "code",
   "execution_count": 5,
   "id": "4293cbae",
   "metadata": {},
   "outputs": [
    {
     "data": {
      "text/html": [
       "<div>\n",
       "<style scoped>\n",
       "    .dataframe tbody tr th:only-of-type {\n",
       "        vertical-align: middle;\n",
       "    }\n",
       "\n",
       "    .dataframe tbody tr th {\n",
       "        vertical-align: top;\n",
       "    }\n",
       "\n",
       "    .dataframe thead th {\n",
       "        text-align: right;\n",
       "    }\n",
       "</style>\n",
       "<table border=\"1\" class=\"dataframe\">\n",
       "  <thead>\n",
       "    <tr style=\"text-align: right;\">\n",
       "      <th></th>\n",
       "      <th>created_date</th>\n",
       "      <th>closed_date</th>\n",
       "      <th>incident_zip</th>\n",
       "      <th>month</th>\n",
       "      <th>response_time</th>\n",
       "    </tr>\n",
       "  </thead>\n",
       "  <tbody>\n",
       "    <tr>\n",
       "      <th>0</th>\n",
       "      <td>2020-07-20 10:51:12</td>\n",
       "      <td>2020-09-05 12:32:48</td>\n",
       "      <td>11234.0</td>\n",
       "      <td>09</td>\n",
       "      <td>1129.693333</td>\n",
       "    </tr>\n",
       "    <tr>\n",
       "      <th>2</th>\n",
       "      <td>2020-07-21 14:13:58</td>\n",
       "      <td>2020-09-05 13:37:31</td>\n",
       "      <td>11210.0</td>\n",
       "      <td>09</td>\n",
       "      <td>1103.392500</td>\n",
       "    </tr>\n",
       "    <tr>\n",
       "      <th>3</th>\n",
       "      <td>2020-07-27 12:56:33</td>\n",
       "      <td>2020-09-05 08:51:14</td>\n",
       "      <td>11354.0</td>\n",
       "      <td>09</td>\n",
       "      <td>955.911389</td>\n",
       "    </tr>\n",
       "    <tr>\n",
       "      <th>10</th>\n",
       "      <td>2020-06-22 18:17:00</td>\n",
       "      <td>2020-06-23 08:59:00</td>\n",
       "      <td>10451.0</td>\n",
       "      <td>06</td>\n",
       "      <td>14.700000</td>\n",
       "    </tr>\n",
       "    <tr>\n",
       "      <th>11</th>\n",
       "      <td>2020-06-21 03:30:00</td>\n",
       "      <td>2020-06-22 21:50:00</td>\n",
       "      <td>10031.0</td>\n",
       "      <td>06</td>\n",
       "      <td>42.333333</td>\n",
       "    </tr>\n",
       "    <tr>\n",
       "      <th>...</th>\n",
       "      <td>...</td>\n",
       "      <td>...</td>\n",
       "      <td>...</td>\n",
       "      <td>...</td>\n",
       "      <td>...</td>\n",
       "    </tr>\n",
       "    <tr>\n",
       "      <th>1887570</th>\n",
       "      <td>2020-07-10 10:34:45</td>\n",
       "      <td>2020-08-26 00:00:00</td>\n",
       "      <td>10075.0</td>\n",
       "      <td>08</td>\n",
       "      <td>1117.420833</td>\n",
       "    </tr>\n",
       "    <tr>\n",
       "      <th>1887572</th>\n",
       "      <td>2020-08-05 14:55:52</td>\n",
       "      <td>2020-08-13 18:35:49</td>\n",
       "      <td>11221.0</td>\n",
       "      <td>08</td>\n",
       "      <td>195.665833</td>\n",
       "    </tr>\n",
       "    <tr>\n",
       "      <th>1887573</th>\n",
       "      <td>2020-07-11 10:53:00</td>\n",
       "      <td>2020-08-21 12:00:00</td>\n",
       "      <td>11421.0</td>\n",
       "      <td>08</td>\n",
       "      <td>985.116667</td>\n",
       "    </tr>\n",
       "    <tr>\n",
       "      <th>1887575</th>\n",
       "      <td>2020-07-16 12:00:23</td>\n",
       "      <td>2020-08-30 17:59:47</td>\n",
       "      <td>11691.0</td>\n",
       "      <td>08</td>\n",
       "      <td>1085.990000</td>\n",
       "    </tr>\n",
       "    <tr>\n",
       "      <th>1887576</th>\n",
       "      <td>2020-07-16 16:55:32</td>\n",
       "      <td>2020-09-05 13:28:38</td>\n",
       "      <td>11226.0</td>\n",
       "      <td>09</td>\n",
       "      <td>1220.551667</td>\n",
       "    </tr>\n",
       "  </tbody>\n",
       "</table>\n",
       "<p>1696129 rows × 5 columns</p>\n",
       "</div>"
      ],
      "text/plain": [
       "               created_date         closed_date  incident_zip month  \\\n",
       "0       2020-07-20 10:51:12 2020-09-05 12:32:48       11234.0    09   \n",
       "2       2020-07-21 14:13:58 2020-09-05 13:37:31       11210.0    09   \n",
       "3       2020-07-27 12:56:33 2020-09-05 08:51:14       11354.0    09   \n",
       "10      2020-06-22 18:17:00 2020-06-23 08:59:00       10451.0    06   \n",
       "11      2020-06-21 03:30:00 2020-06-22 21:50:00       10031.0    06   \n",
       "...                     ...                 ...           ...   ...   \n",
       "1887570 2020-07-10 10:34:45 2020-08-26 00:00:00       10075.0    08   \n",
       "1887572 2020-08-05 14:55:52 2020-08-13 18:35:49       11221.0    08   \n",
       "1887573 2020-07-11 10:53:00 2020-08-21 12:00:00       11421.0    08   \n",
       "1887575 2020-07-16 12:00:23 2020-08-30 17:59:47       11691.0    08   \n",
       "1887576 2020-07-16 16:55:32 2020-09-05 13:28:38       11226.0    09   \n",
       "\n",
       "         response_time  \n",
       "0          1129.693333  \n",
       "2          1103.392500  \n",
       "3           955.911389  \n",
       "10           14.700000  \n",
       "11           42.333333  \n",
       "...                ...  \n",
       "1887570    1117.420833  \n",
       "1887572     195.665833  \n",
       "1887573     985.116667  \n",
       "1887575    1085.990000  \n",
       "1887576    1220.551667  \n",
       "\n",
       "[1696129 rows x 5 columns]"
      ]
     },
     "execution_count": 5,
     "metadata": {},
     "output_type": "execute_result"
    }
   ],
   "source": [
    "format_data(file_path)"
   ]
  },
  {
   "cell_type": "code",
   "execution_count": 6,
   "id": "39ef1df7",
   "metadata": {},
   "outputs": [
    {
     "data": {
      "text/plain": [
       "array(['09', '06', '07', '03', '02', '08', '04', '01', '05'], dtype=object)"
      ]
     },
     "execution_count": 6,
     "metadata": {},
     "output_type": "execute_result"
    }
   ],
   "source": [
    "df = format_data(file_path)\n",
    "df['month'].unique()"
   ]
  },
  {
   "cell_type": "code",
   "execution_count": 7,
   "id": "21e7cb17",
   "metadata": {},
   "outputs": [
    {
     "data": {
      "text/plain": [
       "array(['Sep', 'June', 'July', 'Mar', 'Feb', 'Aug', 'Apr', 'Jan', 'May'],\n",
       "      dtype=object)"
      ]
     },
     "execution_count": 7,
     "metadata": {},
     "output_type": "execute_result"
    }
   ],
   "source": [
    "map_month = {'01':'Jan','02':'Feb','03':'Mar','04':'Apr','05':'May','06':'June','07':'July','08':'Aug','09':'Sep'}\n",
    "df['month'] = df['month'].map(map_month)\n",
    "df['month'].unique()"
   ]
  },
  {
   "cell_type": "code",
   "execution_count": null,
   "id": "f378070c",
   "metadata": {},
   "outputs": [],
   "source": []
  }
 ],
 "metadata": {
  "kernelspec": {
   "display_name": "Python 3 (ipykernel)",
   "language": "python",
   "name": "python3"
  },
  "language_info": {
   "codemirror_mode": {
    "name": "ipython",
    "version": 3
   },
   "file_extension": ".py",
   "mimetype": "text/x-python",
   "name": "python",
   "nbconvert_exporter": "python",
   "pygments_lexer": "ipython3",
   "version": "3.7.4"
  }
 },
 "nbformat": 4,
 "nbformat_minor": 5
}
