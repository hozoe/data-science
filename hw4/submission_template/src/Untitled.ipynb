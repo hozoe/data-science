{
 "cells": [
  {
   "cell_type": "code",
   "execution_count": 21,
   "id": "632519ce",
   "metadata": {},
   "outputs": [],
   "source": [
    "import os.path as osp\n",
    "import pandas as pd\n",
    "import os\n",
    "import calendar\n",
    "\n",
    "def format_data(file):\n",
    "    # format created date and closed data\n",
    "    # parse_dates=['created_date','closed_date'])\n",
    "    columns = ['created_date','closed_date','incident_zip']\n",
    "    df = pd.read_csv(file,low_memory=False, usecols=[1,2,8], names=columns)\n",
    "    df.dropna(inplace=True)\n",
    "    \n",
    "#     df['month'] = df['closed_date'].str.slice(0,2)\n",
    "#     map_month = {'01':'Jan','02':'Feb','03':'Mar','04':'Apr','05':'May','06':'June','07':'July','08':'Aug','09':'Sep'}\n",
    "#     df['month'] = df['month'].map(map_month)\n",
    "    # df['month'] = pd.to_numeric(df['month'], errors='coerce')\n",
    "    # df['month'] = df['month'].apply(lambda x: calendar.month_abbr[x])\n",
    "    df['created_date'] = pd.to_datetime(df['created_date'], format='%m/%d/%Y %I:%M:%S %p')\n",
    "    df['closed_date'] = pd.to_datetime(df['closed_date'], format='%m/%d/%Y %I:%M:%S %p')\n",
    "    df['response_time'] = (df['closed_date'] - df['created_date']) / pd.Timedelta(hours=1)\n",
    "    #df['month'] = df['closed_date'].dt.month_name\n",
    "    df['month'] = df['closed_date'].dt.strftime('%b')\n",
    "    df = df[df['response_time']>=0]\n",
    "\n",
    "    return df\n",
    "\n",
    "def year_avg(data):\n",
    "    df = data.copy()\n",
    "    df['month'] = df['month'].astype(int)\n",
    "    df['incident_zip'] = df['incident_zip'].astype(int)\n",
    "    year_df = df.drop(['incident_zip'],axis=1)\n",
    "    year_df = year_df.groupby(['month']).mean().reset_index()\n",
    "    return year_df\n",
    "\n",
    "def zip_avg(data):\n",
    "    df = data.copy()\n",
    "    df['month'] = df['month'].astype(int)\n",
    "    df['incident_zip'] = df['incident_zip'].astype(int)\n",
    "    zip_df = df.groupby(['month','incident_zip']).mean().reset_index()\n",
    "    return zip_df"
   ]
  },
  {
   "cell_type": "code",
   "execution_count": 22,
   "id": "6ad93ebe",
   "metadata": {},
   "outputs": [],
   "source": [
    "file_path = \"/Users/zoe/Desktop/FALL2021/COMP598/comp598-2021/hw4/submission_template/data/nyc_2020.csv\""
   ]
  },
  {
   "cell_type": "code",
   "execution_count": 23,
   "id": "b8cac883",
   "metadata": {},
   "outputs": [],
   "source": [
    "# format_data(file_path)"
   ]
  },
  {
   "cell_type": "code",
   "execution_count": 24,
   "id": "ec93d4ac",
   "metadata": {},
   "outputs": [
    {
     "data": {
      "text/plain": [
       "array(['Sep', 'Jun', 'Jul', 'Mar', 'Feb', 'Aug', 'Apr', 'Jan', 'May'],\n",
       "      dtype=object)"
      ]
     },
     "execution_count": 24,
     "metadata": {},
     "output_type": "execute_result"
    }
   ],
   "source": [
    "df = format_data(file_path)\n",
    "df['month'].unique()"
   ]
  },
  {
   "cell_type": "code",
   "execution_count": 25,
   "id": "2a1149ba",
   "metadata": {},
   "outputs": [],
   "source": [
    "def year_avg(data):\n",
    "    df = data.copy()\n",
    "    #df['month'] = df['month'].astype(int)\n",
    "    df['incident_zip'] = df['incident_zip'].astype(int)\n",
    "    year_df = df.drop(['incident_zip'],axis=1)\n",
    "    year_df = year_df.groupby(['month']).mean().reset_index()\n",
    "    return year_df"
   ]
  },
  {
   "cell_type": "code",
   "execution_count": 26,
   "id": "721d7e0e",
   "metadata": {},
   "outputs": [
    {
     "data": {
      "text/html": [
       "<div>\n",
       "<style scoped>\n",
       "    .dataframe tbody tr th:only-of-type {\n",
       "        vertical-align: middle;\n",
       "    }\n",
       "\n",
       "    .dataframe tbody tr th {\n",
       "        vertical-align: top;\n",
       "    }\n",
       "\n",
       "    .dataframe thead th {\n",
       "        text-align: right;\n",
       "    }\n",
       "</style>\n",
       "<table border=\"1\" class=\"dataframe\">\n",
       "  <thead>\n",
       "    <tr style=\"text-align: right;\">\n",
       "      <th></th>\n",
       "      <th>month</th>\n",
       "      <th>response_time</th>\n",
       "    </tr>\n",
       "  </thead>\n",
       "  <tbody>\n",
       "    <tr>\n",
       "      <th>0</th>\n",
       "      <td>Apr</td>\n",
       "      <td>78.524512</td>\n",
       "    </tr>\n",
       "    <tr>\n",
       "      <th>1</th>\n",
       "      <td>Aug</td>\n",
       "      <td>122.850844</td>\n",
       "    </tr>\n",
       "    <tr>\n",
       "      <th>2</th>\n",
       "      <td>Feb</td>\n",
       "      <td>70.912960</td>\n",
       "    </tr>\n",
       "    <tr>\n",
       "      <th>3</th>\n",
       "      <td>Jan</td>\n",
       "      <td>39.852758</td>\n",
       "    </tr>\n",
       "    <tr>\n",
       "      <th>4</th>\n",
       "      <td>Jul</td>\n",
       "      <td>106.709947</td>\n",
       "    </tr>\n",
       "    <tr>\n",
       "      <th>5</th>\n",
       "      <td>Jun</td>\n",
       "      <td>111.929047</td>\n",
       "    </tr>\n",
       "    <tr>\n",
       "      <th>6</th>\n",
       "      <td>Mar</td>\n",
       "      <td>82.343669</td>\n",
       "    </tr>\n",
       "    <tr>\n",
       "      <th>7</th>\n",
       "      <td>May</td>\n",
       "      <td>93.624943</td>\n",
       "    </tr>\n",
       "    <tr>\n",
       "      <th>8</th>\n",
       "      <td>Sep</td>\n",
       "      <td>170.201880</td>\n",
       "    </tr>\n",
       "  </tbody>\n",
       "</table>\n",
       "</div>"
      ],
      "text/plain": [
       "  month  response_time\n",
       "0   Apr      78.524512\n",
       "1   Aug     122.850844\n",
       "2   Feb      70.912960\n",
       "3   Jan      39.852758\n",
       "4   Jul     106.709947\n",
       "5   Jun     111.929047\n",
       "6   Mar      82.343669\n",
       "7   May      93.624943\n",
       "8   Sep     170.201880"
      ]
     },
     "execution_count": 26,
     "metadata": {},
     "output_type": "execute_result"
    }
   ],
   "source": [
    "year_avg(df)"
   ]
  },
  {
   "cell_type": "code",
   "execution_count": null,
   "id": "7f554cad",
   "metadata": {},
   "outputs": [],
   "source": []
  }
 ],
 "metadata": {
  "kernelspec": {
   "display_name": "Python 3",
   "language": "python",
   "name": "python3"
  },
  "language_info": {
   "codemirror_mode": {
    "name": "ipython",
    "version": 3
   },
   "file_extension": ".py",
   "mimetype": "text/x-python",
   "name": "python",
   "nbconvert_exporter": "python",
   "pygments_lexer": "ipython3",
   "version": "3.8.8"
  }
 },
 "nbformat": 4,
 "nbformat_minor": 5
}
